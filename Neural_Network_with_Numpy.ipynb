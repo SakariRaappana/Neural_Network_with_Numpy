{
 "cells": [
  {
   "cell_type": "markdown",
   "metadata": {},
   "source": [
    "# Simple neural network with Numpy\n",
    "By: Sakari Raappana\n",
    "\n",
    "This is a simple two layer neural network build with Numpy. Pandas and Matplotlib libraries are used to import the data and visualize the cost function.\n",
    "\n",
    "This model is capable for binary classification only but in a future release it might have option for multiclass classification and different choices for activation, cost and optimizing functions! ;)"
   ]
  },
  {
   "cell_type": "code",
   "execution_count": 1,
   "metadata": {},
   "outputs": [],
   "source": [
    "import numpy as np\n",
    "import random"
   ]
  },
  {
   "cell_type": "code",
   "execution_count": 2,
   "metadata": {},
   "outputs": [],
   "source": [
    "class Model:\n",
    "\n",
    "    def __init__(self, X):\n",
    "        self.input_size = X.shape[0]\n",
    "        self.hidden_size = self.input_size\n",
    "        self.output_size = 1\n",
    "    \n",
    "    #Activation functions\n",
    "    def sigmoid(self, Z):\n",
    "        A = 1 / (1 + np.exp(-Z))\n",
    "        return A\n",
    "        \n",
    "    def relu(self, Z):\n",
    "        A = np.maximum(0,Z)\n",
    "        return A\n",
    "\n",
    "    #Construct weight matrices and biases\n",
    "    def init_weights(self):\n",
    "        self.W1 = np.random.randn(self.hidden_size, self.input_size) * 0.1\n",
    "        self.b1 = np.zeros(shape=(self.hidden_size, 1))\n",
    "        self.W2 = np.random.randn(self.output_size, self.hidden_size) * 0.1\n",
    "        self.b2 = np.zeros(shape=(self.output_size, 1))\n",
    "        return self.W1, self.b1, self.W2, self.b2\n",
    "    \n",
    "    def forward_propagation(self, X):\n",
    "        self.Z1 = (self.W1.T @ X) + self.b1\n",
    "        self.A1 = self.sigmoid(self.Z1)\n",
    "        self.Z2 = (self.W2 @ self.A1) + self.b2\n",
    "        self.A2 = self.sigmoid(self.Z2)\n",
    "        self.pred = self.A2\n",
    "        pred = self.A2\n",
    "        return pred\n",
    "    \n",
    "    #Cross Entropy version\n",
    "    def calculate_cost(self, pred, Y):\n",
    "        cost = -(1.0 / m) * np.sum(Y * np.log(pred) + (1 - Y) * np.log(1 - pred))\n",
    "        return cost\n",
    "    \n",
    "    #Calculates gradients\n",
    "    def back_propagation(self, X, Y):\n",
    "        m = len(X.T) #num of training samples\n",
    "        dZ2 = self.pred - Y\n",
    "        self.dW2 = (1/m) * dZ2 @ self.A1.T\n",
    "        self.db2 = (1/m) * np.sum(dZ2,axis=1,keepdims=True)\n",
    "        dZ1 = np.multiply((self.W2.T @ dZ2), 1 - np.power(self.A1, 2))\n",
    "        self.dW1 = (1/m) * (dZ1 @ X.T)\n",
    "        self.db1 = (1/m) * np.sum(dZ1, axis=1,keepdims=True)\n",
    "        \n",
    "    #Optimizer fuction \n",
    "    def gradient_decent(self, lr):\n",
    "        self.W1 = self.W1 - lr * self.dW1\n",
    "        self.b1 = self.b1 - lr * self.db1\n",
    "        self.W2 = self.W2 - lr * self.dW2\n",
    "        self.b2 = self.b2 - lr * self.db2\n",
    "        \n",
    "    #Training the model\n",
    "    def fit(self, X, Y, epochs=10, lr=0.01, verbose=100, plot=True):\n",
    "        self.init_weights()\n",
    "        \n",
    "        cost_list = []\n",
    "        for i in range (1, epochs + 1):\n",
    "            pred = self.forward_propagation(X)\n",
    "            cost = self.calculate_cost(pred, Y)\n",
    "            self.back_propagation(X, Y)\n",
    "            self.gradient_decent(lr)\n",
    "            cost_list.append(cost)\n",
    "            \n",
    "            if i % verbose == 0:\n",
    "                loss = np.round(sum(cost_list) / len(cost_list), 3) #calculate average\n",
    "                print(f'Loss after {i} epochs: {loss}')\n",
    "        \n",
    "        if plot==True:\n",
    "            plt.style.use('seaborn-whitegrid')\n",
    "            plt.title('Cost over epochs')\n",
    "            plt.ylim(0, 1)\n",
    "            plt.plot(cost_list)\n",
    "        \n",
    "    #Make predictions with the model\n",
    "    def predict(self, X):\n",
    "        pred = self.forward_propagation(X)\n",
    "        binary_pred = (pred > 0.5)\n",
    "        return binary_pred\n",
    "    \n",
    "    #Evaluate model's accuracy\n",
    "    def evaluate(self, predictions, Y, plot=True):\n",
    "        corrects = 0\n",
    "        for i, label in enumerate(Y):\n",
    "            if label == predictions[0][i]:\n",
    "                corrects += 1\n",
    "        accuracy = np.round(corrects / len(Y), 2)\n",
    "        \n",
    "        if plot==True:\n",
    "            labels = ['Correct', 'Incorrect']\n",
    "            sizes = [(accuracy * 100), (100 - (accuracy * 100))]\n",
    "            colors = ['#00e600','#ff5000']\n",
    "            fig1, ax1 = plt.subplots()\n",
    "            ax1.pie(sizes, explode=(0, 0.1), labels=labels, colors=colors, autopct='%1.1f%%',\n",
    "            shadow=True, startangle=90)\n",
    "            ax1.axis('equal')  \n",
    "            plt.tight_layout()\n",
    "            plt.show()\n",
    "            \n",
    "        return accuracy"
   ]
  },
  {
   "cell_type": "markdown",
   "metadata": {},
   "source": [
    "# Data\n",
    "\n",
    "This is a \"Heart disease\" dataset containing 13 different atributes from 303 patients and also inclduding \"label\" dictating if the patient has the disease or not (binary classification problem). Dataset can be found here: https://www.kaggle.com/ronitf/heart-disease-uci/data#\n",
    "\n",
    "Attribute Information:\n",
    " 1. age\n",
    " 2. sex\n",
    " 3. chest pain type (4 values)\n",
    " 4. resting blood pressure\n",
    " 5. serum cholestoral in mg/dl\n",
    " 6. fasting blood sugar > 120 mg/dl\n",
    " 7. resting electrocardiographic results (values 0,1,2)\n",
    " 8. maximum heart rate achieved\n",
    " 9. exercise induced angina\n",
    " 10. oldpeak = ST depression induced by exercise relative to rest\n",
    " 11. the slope of the peak exercise ST segment\n",
    " 12. number of major vessels (0-3) colored by flourosopy\n",
    " 13. thal: 3 = normal; 6 = fixed defect; 7 = reversable defect"
   ]
  },
  {
   "cell_type": "code",
   "execution_count": 7,
   "metadata": {},
   "outputs": [
    {
     "name": "stdout",
     "output_type": "stream",
     "text": [
      "   age  sex  cp  trestbps  chol  fbs  restecg  thalach  exang  oldpeak  slope  \\\n",
      "0   63    1   3       145   233    1        0      150      0      2.3      0   \n",
      "1   37    1   2       130   250    0        1      187      0      3.5      0   \n",
      "2   41    0   1       130   204    0        0      172      0      1.4      2   \n",
      "3   56    1   1       120   236    0        1      178      0      0.8      2   \n",
      "4   57    0   0       120   354    0        1      163      1      0.6      2   \n",
      "\n",
      "   ca  thal  target  \n",
      "0   0     1       1  \n",
      "1   0     2       1  \n",
      "2   0     2       1  \n",
      "3   0     2       1  \n",
      "4   0     2       1  \n"
     ]
    }
   ],
   "source": [
    "import pandas as pd\n",
    "import matplotlib.pyplot as plt\n",
    "\n",
    "df = pd.read_csv('heart.csv')\n",
    "print(df.head(5))"
   ]
  },
  {
   "cell_type": "code",
   "execution_count": 4,
   "metadata": {},
   "outputs": [
    {
     "name": "stdout",
     "output_type": "stream",
     "text": [
      "Shape of X: (303, 13)\n",
      "Shape of Y: (303,)\n",
      "X shape: 13, 303\n",
      "Y shape: 303\n",
      "Number of samples: 303\n"
     ]
    }
   ],
   "source": [
    "#Normalize data\n",
    "df_normalized = (df - df.mean()) / df.std()\n",
    "\n",
    "X = df_normalized.loc[0:, 'age':'thal']\n",
    "Y = df['target']\n",
    "\n",
    "print(f'Shape of X: {X.shape}')\n",
    "print(f'Shape of Y: {Y.shape}')\n",
    "\n",
    "X = X.to_numpy().T\n",
    "Y = Y.to_numpy().T\n",
    "m = len(Y)\n",
    "\n",
    "print(f'X shape: {X.shape[0]}, {X.shape[1]}')\n",
    "print(f'Y shape: {Y.shape[0]}')\n",
    "print(f'Number of samples: {m}')"
   ]
  },
  {
   "cell_type": "markdown",
   "metadata": {},
   "source": [
    "# Using the Model\n",
    "    1. Model.init() takes the X matrix as argument.\n",
    "    2. Model.fit() takes X matrix and Y vector as arguments. Epochs, learningrate and verbose can be given to overwrite default values.\n",
    "    3. Model.predict() takes single datapoint or list of datapoints and returns prediction.\n",
    "    \n",
    " "
   ]
  },
  {
   "cell_type": "code",
   "execution_count": 5,
   "metadata": {
    "scrolled": false
   },
   "outputs": [
    {
     "name": "stdout",
     "output_type": "stream",
     "text": [
      "Loss after 1000 epochs: 0.671\n",
      "Loss after 2000 epochs: 0.591\n",
      "Loss after 3000 epochs: 0.536\n",
      "Loss after 4000 epochs: 0.505\n",
      "Loss after 5000 epochs: 0.486\n",
      "Loss after 6000 epochs: 0.471\n",
      "Loss after 7000 epochs: 0.461\n",
      "Loss after 8000 epochs: 0.452\n",
      "Loss after 9000 epochs: 0.444\n",
      "Loss after 10000 epochs: 0.438\n",
      "Loss after 11000 epochs: 0.433\n",
      "Loss after 12000 epochs: 0.428\n",
      "Loss after 13000 epochs: 0.424\n",
      "Loss after 14000 epochs: 0.421\n",
      "Loss after 15000 epochs: 0.417\n"
     ]
    },
    {
     "data": {
      "image/png": "[encoded data removed]",
      "text/plain": [
       "<Figure size 432x288 with 1 Axes>"
      ]
     },
     "metadata": {},
     "output_type": "display_data"
    }
   ],
   "source": [
    "model = Model(X)\n",
    "model.fit(X, Y, epochs=15000, lr=0.01, verbose=1000, plot=True)"
   ]
  },
  {
   "cell_type": "markdown",
   "metadata": {},
   "source": [
    "### Evaluate"
   ]
  },
  {
   "cell_type": "markdown",
   "metadata": {},
   "source": [
    "  In this example we use the training set also to evaluate the model which means that the accuracy represented below is to be considered as validation accuracy."
   ]
  },
  {
   "cell_type": "code",
   "execution_count": 6,
   "metadata": {},
   "outputs": [
    {
     "data": {
      "image/png": "[encoded data removed]",
      "text/plain": [
       "<Figure size 432x288 with 1 Axes>"
      ]
     },
     "metadata": {},
     "output_type": "display_data"
    },
    {
     "name": "stdout",
     "output_type": "stream",
     "text": [
      "Accuracy: 0.85%\n"
     ]
    }
   ],
   "source": [
    "predictions = model.predict(X)\n",
    "acc = model.evaluate(predictions, Y, plot=True)\n",
    "print(f'Accuracy: {acc}%')"
   ]
  }
 ],
 "metadata": {
  "kernelspec": {
   "display_name": "Python 3",
   "language": "python",
   "name": "python3"
  },
  "language_info": {
   "codemirror_mode": {
    "name": "ipython",
    "version": 3
   },
   "file_extension": ".py",
   "mimetype": "text/x-python",
   "name": "python",
   "nbconvert_exporter": "python",
   "pygments_lexer": "ipython3",
   "version": "3.7.3"
  }
 },
 "nbformat": 4,
 "nbformat_minor": 4
}
